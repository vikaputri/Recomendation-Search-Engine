{
 "cells": [
  {
   "cell_type": "code",
   "execution_count": 1,
   "metadata": {
    "_cell_guid": "b1076dfc-b9ad-4769-8c92-a6c4dae69d19",
    "_uuid": "8f2839f25d086af736a60e9eeb907d3b93b6e0e5",
    "execution": {
     "iopub.execute_input": "2020-12-01T11:04:11.425848Z",
     "iopub.status.busy": "2020-12-01T11:04:11.425009Z",
     "iopub.status.idle": "2020-12-01T11:04:11.427912Z",
     "shell.execute_reply": "2020-12-01T11:04:11.427379Z"
    },
    "papermill": {
     "duration": 0.022611,
     "end_time": "2020-12-01T11:04:11.428022",
     "exception": false,
     "start_time": "2020-12-01T11:04:11.405411",
     "status": "completed"
    },
    "tags": []
   },
   "outputs": [],
   "source": [
    "import numpy as np\n",
    "import pandas as pd"
   ]
  },
  {
   "cell_type": "code",
   "execution_count": 2,
   "metadata": {
    "_cell_guid": "79c7e3d0-c299-4dcb-8224-4455121ee9b0",
    "_uuid": "d629ff2d2480ee46fbb7e2d37f6b5fab8052498a",
    "execution": {
     "iopub.execute_input": "2020-12-01T11:04:11.459725Z",
     "iopub.status.busy": "2020-12-01T11:04:11.459151Z",
     "iopub.status.idle": "2020-12-01T11:04:11.492435Z",
     "shell.execute_reply": "2020-12-01T11:04:11.491842Z"
    },
    "papermill": {
     "duration": 0.05229,
     "end_time": "2020-12-01T11:04:11.492527",
     "exception": false,
     "start_time": "2020-12-01T11:04:11.440237",
     "status": "completed"
    },
    "tags": []
   },
   "outputs": [],
   "source": [
    "book = pd.read_csv(\"../input/goodreads-best-books-of-2018/book_data.csv\")"
   ]
  },
  {
   "cell_type": "code",
   "execution_count": 3,
   "metadata": {
    "execution": {
     "iopub.execute_input": "2020-12-01T11:04:11.520040Z",
     "iopub.status.busy": "2020-12-01T11:04:11.519403Z",
     "iopub.status.idle": "2020-12-01T11:04:12.690311Z",
     "shell.execute_reply": "2020-12-01T11:04:12.689449Z"
    },
    "papermill": {
     "duration": 1.186064,
     "end_time": "2020-12-01T11:04:12.690418",
     "exception": false,
     "start_time": "2020-12-01T11:04:11.504354",
     "status": "completed"
    },
    "tags": []
   },
   "outputs": [
    {
     "data": {
      "image/png": "[encoded data removed]",
      "text/plain": [
       "<Figure size 432x288 with 1 Axes>"
      ]
     },
     "metadata": {
      "needs_background": "light"
     },
     "output_type": "display_data"
    }
   ],
   "source": [
    "import seaborn as sns\n",
    "sns.distplot(book[\"book_rating\"]);"
   ]
  },
  {
   "cell_type": "markdown",
   "metadata": {
    "papermill": {
     "duration": 0.012651,
     "end_time": "2020-12-01T11:04:12.716376",
     "exception": false,
     "start_time": "2020-12-01T11:04:12.703725",
     "status": "completed"
    },
    "tags": []
   },
   "source": [
    "# Text Preprocessing"
   ]
  },
  {
   "cell_type": "code",
   "execution_count": 4,
   "metadata": {
    "execution": {
     "iopub.execute_input": "2020-12-01T11:04:12.752249Z",
     "iopub.status.busy": "2020-12-01T11:04:12.751409Z",
     "iopub.status.idle": "2020-12-01T11:04:13.918831Z",
     "shell.execute_reply": "2020-12-01T11:04:13.918065Z"
    },
    "papermill": {
     "duration": 1.18986,
     "end_time": "2020-12-01T11:04:13.918970",
     "exception": false,
     "start_time": "2020-12-01T11:04:12.729110",
     "status": "completed"
    },
    "tags": []
   },
   "outputs": [
    {
     "name": "stdout",
     "output_type": "stream",
     "text": [
      "[nltk_data] Downloading package stopwords to /usr/share/nltk_data...\n",
      "[nltk_data]   Package stopwords is already up-to-date!\n"
     ]
    }
   ],
   "source": [
    "import nltk\n",
    "nltk.download('stopwords')\n",
    "from nltk.corpus import stopwords\n",
    "from nltk.tokenize import RegexpTokenizer\n",
    "import re\n",
    "\n",
    "def make_lower_case(text):\n",
    "    return text.lower()\n",
    "\n",
    "def remove_punctuation(text):\n",
    "    tokenizer = RegexpTokenizer(r'\\w+')\n",
    "    text = tokenizer.tokenize(text)\n",
    "    text = \" \".join(text)\n",
    "    return text\n",
    "\n",
    "def remove_stop_words(text):\n",
    "    text = text.split()\n",
    "    stops = set(stopwords.words(\"english\"))\n",
    "    text = [w for w in text if not w in stops]\n",
    "    text = \" \".join(text)\n",
    "    return text\n",
    "\n",
    "def remove_html(text):\n",
    "    html_pattern = re.compile('<.*?>')\n",
    "    return html_pattern.sub(r'', text)\n",
    "\n",
    "def _removeNonAscii(s):\n",
    "    return \"\".join(i for i in s if  ord(i)<128)"
   ]
  },
  {
   "cell_type": "code",
   "execution_count": 5,
   "metadata": {
    "execution": {
     "iopub.execute_input": "2020-12-01T11:04:13.973567Z",
     "iopub.status.busy": "2020-12-01T11:04:13.968404Z",
     "iopub.status.idle": "2020-12-01T11:04:14.454827Z",
     "shell.execute_reply": "2020-12-01T11:04:14.454270Z"
    },
    "papermill": {
     "duration": 0.521892,
     "end_time": "2020-12-01T11:04:14.454938",
     "exception": false,
     "start_time": "2020-12-01T11:04:13.933046",
     "status": "completed"
    },
    "tags": []
   },
   "outputs": [],
   "source": [
    "book['book_desc'] = book['book_desc'].astype(str)\n",
    "book['cleaned'] = book['book_desc'].apply(_removeNonAscii)\n",
    "book['cleaned'] = book.cleaned.apply(func = make_lower_case)\n",
    "book['cleaned'] = book.cleaned.apply(func = remove_stop_words)\n",
    "book['cleaned'] = book.cleaned.apply(func=remove_punctuation)\n",
    "book['cleaned'] = book.cleaned.apply(func=remove_html)"
   ]
  },
  {
   "cell_type": "markdown",
   "metadata": {
    "papermill": {
     "duration": 0.013111,
     "end_time": "2020-12-01T11:04:14.481865",
     "exception": false,
     "start_time": "2020-12-01T11:04:14.468754",
     "status": "completed"
    },
    "tags": []
   },
   "source": [
    "# Splitting the descriptions into words and stored in a list called corpus"
   ]
  },
  {
   "cell_type": "code",
   "execution_count": 6,
   "metadata": {
    "execution": {
     "iopub.execute_input": "2020-12-01T11:04:14.527450Z",
     "iopub.status.busy": "2020-12-01T11:04:14.526250Z",
     "iopub.status.idle": "2020-12-01T11:04:14.528333Z",
     "shell.execute_reply": "2020-12-01T11:04:14.528864Z"
    },
    "papermill": {
     "duration": 0.033611,
     "end_time": "2020-12-01T11:04:14.528976",
     "exception": false,
     "start_time": "2020-12-01T11:04:14.495365",
     "status": "completed"
    },
    "tags": []
   },
   "outputs": [],
   "source": [
    "corpus = []\n",
    "\n",
    "for words in book['cleaned']:\n",
    "    corpus.append(words.split())"
   ]
  },
  {
   "cell_type": "markdown",
   "metadata": {
    "papermill": {
     "duration": 0.013419,
     "end_time": "2020-12-01T11:04:14.555956",
     "exception": false,
     "start_time": "2020-12-01T11:04:14.542537",
     "status": "completed"
    },
    "tags": []
   },
   "source": [
    "# Training corpus with Google Pretrained Word2Vec model"
   ]
  },
  {
   "cell_type": "code",
   "execution_count": 7,
   "metadata": {
    "execution": {
     "iopub.execute_input": "2020-12-01T11:04:14.592905Z",
     "iopub.status.busy": "2020-12-01T11:04:14.592269Z",
     "iopub.status.idle": "2020-12-01T11:09:38.004327Z",
     "shell.execute_reply": "2020-12-01T11:09:38.004829Z"
    },
    "papermill": {
     "duration": 323.435504,
     "end_time": "2020-12-01T11:09:38.004987",
     "exception": false,
     "start_time": "2020-12-01T11:04:14.569483",
     "status": "completed"
    },
    "tags": []
   },
   "outputs": [
    {
     "name": "stdout",
     "output_type": "stream",
     "text": [
      "--2020-12-01 11:04:15--  https://s3.amazonaws.com/dl4j-distribution/GoogleNews-vectors-negative300.bin.gz\r\n",
      "Resolving s3.amazonaws.com (s3.amazonaws.com)... 52.216.200.237\r\n",
      "Connecting to s3.amazonaws.com (s3.amazonaws.com)|52.216.200.237|:443... connected.\r\n",
      "HTTP request sent, awaiting response... 200 OK\r\n",
      "Length: 1647046227 (1.5G) [application/x-gzip]\r\n",
      "Saving to: ‘/root/input/GoogleNews-vectors-negative300.bin.gz’\r\n",
      "\r\n",
      "GoogleNews-vectors- 100%[===================>]   1.53G  10.7MB/s    in 1m 50s  \r\n",
      "\r\n",
      "2020-12-01 11:06:05 (14.3 MB/s) - ‘/root/input/GoogleNews-vectors-negative300.bin.gz’ saved [1647046227/1647046227]\r\n",
      "\r\n"
     ]
    },
    {
     "data": {
      "text/plain": [
       "(0, 0)"
      ]
     },
     "execution_count": 7,
     "metadata": {},
     "output_type": "execute_result"
    }
   ],
   "source": [
    "from gensim.models import KeyedVectors\n",
    "from gensim.models import Word2Vec\n",
    "\n",
    "!wget -P /root/input/ -c \"https://s3.amazonaws.com/dl4j-distribution/GoogleNews-vectors-negative300.bin.gz\"\n",
    "\n",
    "EMBEDDING_FILE = '/root/input/GoogleNews-vectors-negative300.bin.gz'\n",
    "google_word2vec = KeyedVectors.load_word2vec_format(EMBEDDING_FILE, binary=True)\n",
    "\n",
    "google_model = Word2Vec(size = 300, window=5, min_count = 2, workers = -1)\n",
    "google_model.build_vocab(corpus)\n",
    "\n",
    "google_model.intersect_word2vec_format(EMBEDDING_FILE, lockf=1.0, binary=True)\n",
    "\n",
    "google_model.train(corpus, total_examples=google_model.corpus_count, epochs = 5)"
   ]
  },
  {
   "cell_type": "markdown",
   "metadata": {
    "papermill": {
     "duration": 0.179812,
     "end_time": "2020-12-01T11:09:38.367475",
     "exception": false,
     "start_time": "2020-12-01T11:09:38.187663",
     "status": "completed"
    },
    "tags": []
   },
   "source": [
    "# Building the TF-IDF model"
   ]
  },
  {
   "cell_type": "code",
   "execution_count": 8,
   "metadata": {
    "execution": {
     "iopub.execute_input": "2020-12-01T11:09:38.771692Z",
     "iopub.status.busy": "2020-12-01T11:09:38.761308Z",
     "iopub.status.idle": "2020-12-01T11:09:39.378688Z",
     "shell.execute_reply": "2020-12-01T11:09:39.377853Z"
    },
    "papermill": {
     "duration": 0.830281,
     "end_time": "2020-12-01T11:09:39.378800",
     "exception": false,
     "start_time": "2020-12-01T11:09:38.548519",
     "status": "completed"
    },
    "tags": []
   },
   "outputs": [],
   "source": [
    "from sklearn.feature_extraction.text import TfidfVectorizer\n",
    "\n",
    "tfidf = TfidfVectorizer(analyzer='word', ngram_range=(1, 3), min_df = 5, stop_words='english')\n",
    "tfidf.fit(book['cleaned'])\n",
    "\n",
    "tfidf_list = dict(zip(tfidf.get_feature_names(), list(tfidf.idf_)))\n",
    "tfidf_feature = tfidf.get_feature_names()"
   ]
  },
  {
   "cell_type": "markdown",
   "metadata": {
    "papermill": {
     "duration": 0.179928,
     "end_time": "2020-12-01T11:09:39.742858",
     "exception": false,
     "start_time": "2020-12-01T11:09:39.562930",
     "status": "completed"
    },
    "tags": []
   },
   "source": [
    "# Building TF-IDF Word2Vec Embeddings"
   ]
  },
  {
   "cell_type": "code",
   "execution_count": 9,
   "metadata": {
    "execution": {
     "iopub.execute_input": "2020-12-01T11:09:40.495872Z",
     "iopub.status.busy": "2020-12-01T11:09:40.494624Z",
     "iopub.status.idle": "2020-12-01T11:09:47.368459Z",
     "shell.execute_reply": "2020-12-01T11:09:47.369069Z"
    },
    "papermill": {
     "duration": 7.446316,
     "end_time": "2020-12-01T11:09:47.369230",
     "exception": false,
     "start_time": "2020-12-01T11:09:39.922914",
     "status": "completed"
    },
    "tags": []
   },
   "outputs": [],
   "source": [
    "import numpy as np\n",
    "\n",
    "tfidf_vectors = []; \n",
    "line = 0;\n",
    "\n",
    "for desc in corpus: \n",
    "    sent_vec = np.zeros(300) \n",
    "    weight_sum =0; \n",
    "    for word in desc: \n",
    "        if word in google_model.wv.vocab and word in tfidf_feature:\n",
    "            vec = google_model.wv[word]\n",
    "            tf_idf = tfidf_list[word] * (desc.count(word) / len(desc))\n",
    "            sent_vec += (vec * tf_idf)\n",
    "            weight_sum += tf_idf\n",
    "    if weight_sum != 0:\n",
    "        sent_vec /= weight_sum\n",
    "    tfidf_vectors.append(sent_vec)\n",
    "    line += 1"
   ]
  },
  {
   "cell_type": "code",
   "execution_count": 10,
   "metadata": {
    "execution": {
     "iopub.execute_input": "2020-12-01T11:09:47.742322Z",
     "iopub.status.busy": "2020-12-01T11:09:47.741407Z",
     "iopub.status.idle": "2020-12-01T11:09:47.747378Z",
     "shell.execute_reply": "2020-12-01T11:09:47.746883Z"
    },
    "papermill": {
     "duration": 0.196178,
     "end_time": "2020-12-01T11:09:47.747480",
     "exception": false,
     "start_time": "2020-12-01T11:09:47.551302",
     "status": "completed"
    },
    "tags": []
   },
   "outputs": [],
   "source": [
    "import pickle\n",
    "\n",
    "filename = \"Model.pkl\"  \n",
    "\n",
    "with open(filename, 'wb') as file:  \n",
    "    pickle.dump(tfidf_vectors, file)"
   ]
  },
  {
   "cell_type": "code",
   "execution_count": 11,
   "metadata": {
    "execution": {
     "iopub.execute_input": "2020-12-01T11:09:48.262437Z",
     "iopub.status.busy": "2020-12-01T11:09:48.261527Z",
     "iopub.status.idle": "2020-12-01T11:09:48.265591Z",
     "shell.execute_reply": "2020-12-01T11:09:48.266326Z"
    },
    "papermill": {
     "duration": 0.337693,
     "end_time": "2020-12-01T11:09:48.266507",
     "exception": false,
     "start_time": "2020-12-01T11:09:47.928814",
     "status": "completed"
    },
    "tags": []
   },
   "outputs": [],
   "source": [
    "with open(filename, 'rb') as file:  \n",
    "    Model = pickle.load(file)"
   ]
  },
  {
   "cell_type": "markdown",
   "metadata": {
    "papermill": {
     "duration": 0.232725,
     "end_time": "2020-12-01T11:09:48.786451",
     "exception": false,
     "start_time": "2020-12-01T11:09:48.553726",
     "status": "completed"
    },
    "tags": []
   },
   "source": [
    "# Recommendation using TF-IDF Word2Vec"
   ]
  },
  {
   "cell_type": "code",
   "execution_count": 12,
   "metadata": {
    "execution": {
     "iopub.execute_input": "2020-12-01T11:09:49.207142Z",
     "iopub.status.busy": "2020-12-01T11:09:49.206314Z",
     "iopub.status.idle": "2020-12-01T11:09:49.239610Z",
     "shell.execute_reply": "2020-12-01T11:09:49.240349Z"
    },
    "papermill": {
     "duration": 0.274133,
     "end_time": "2020-12-01T11:09:49.240512",
     "exception": false,
     "start_time": "2020-12-01T11:09:48.966379",
     "status": "completed"
    },
    "tags": []
   },
   "outputs": [],
   "source": [
    "from sklearn.metrics.pairwise import cosine_similarity\n",
    "cosine_sim = cosine_similarity(Model)\n",
    "\n",
    "def get_recommendations(title, cosine_sim=cosine_sim):\n",
    "    idx = book.loc[book['book_title'].isin([title])]\n",
    "    idx = idx.index\n",
    "    sim_scores = list(enumerate(cosine_sim[idx][0]))\n",
    "    sim_scores = sorted(sim_scores, key=lambda x: x[1], reverse=True)\n",
    "    sim_scores = sim_scores[1:5]\n",
    "    indices = [i[0] for i in sim_scores]\n",
    "    judul = book['book_title'].iloc[indices]\n",
    "    return judul"
   ]
  },
  {
   "cell_type": "code",
   "execution_count": 13,
   "metadata": {
    "execution": {
     "iopub.execute_input": "2020-12-01T11:09:49.763280Z",
     "iopub.status.busy": "2020-12-01T11:09:49.755296Z",
     "iopub.status.idle": "2020-12-01T11:09:49.767377Z",
     "shell.execute_reply": "2020-12-01T11:09:49.766902Z"
    },
    "papermill": {
     "duration": 0.267483,
     "end_time": "2020-12-01T11:09:49.767497",
     "exception": false,
     "start_time": "2020-12-01T11:09:49.500014",
     "status": "completed"
    },
    "tags": []
   },
   "outputs": [
    {
     "data": {
      "text/plain": [
       "860             The Darkest Warrior\n",
       "183                The Sky Is Yours\n",
       "134    Aru Shah and the End of Time\n",
       "377                        Strength\n",
       "Name: book_title, dtype: object"
      ]
     },
     "execution_count": 13,
     "metadata": {},
     "output_type": "execute_result"
    }
   ],
   "source": [
    "get_recommendations(\"Circe\")"
   ]
  }
 ],
 "metadata": {
  "kernelspec": {
   "display_name": "Python 3",
   "language": "python",
   "name": "python3"
  },
  "language_info": {
   "codemirror_mode": {
    "name": "ipython",
    "version": 3
   },
   "file_extension": ".py",
   "mimetype": "text/x-python",
   "name": "python",
   "nbconvert_exporter": "python",
   "pygments_lexer": "ipython3",
   "version": "3.7.6"
  },
  "papermill": {
   "duration": 344.241722,
   "end_time": "2020-12-01T11:09:51.133904",
   "environment_variables": {},
   "exception": null,
   "input_path": "__notebook__.ipynb",
   "output_path": "__notebook__.ipynb",
   "parameters": {},
   "start_time": "2020-12-01T11:04:06.892182",
   "version": "2.1.0"
  }
 },
 "nbformat": 4,
 "nbformat_minor": 4
}
